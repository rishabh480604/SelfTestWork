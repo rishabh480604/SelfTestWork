{
  "cells": [
    {
      "cell_type": "markdown",
      "metadata": {
        "id": "view-in-github",
        "colab_type": "text"
      },
      "source": [
        "<a href=\"https://colab.research.google.com/github/rishabh480604/SelfTestWork/blob/main/Ecdhe.ipynb\" target=\"_parent\"><img src=\"https://colab.research.google.com/assets/colab-badge.svg\" alt=\"Open In Colab\"/></a>"
      ]
    },
    {
      "cell_type": "code",
      "execution_count": null,
      "metadata": {
        "colab": {
          "background_save": true
        },
        "id": "LmaBB9McXE6v",
        "outputId": "ecbd9c59-226b-42f7-ecde-b2212e165337"
      },
      "outputs": [
        {
          "ename": "SyntaxError",
          "evalue": "invalid syntax (<ipython-input-1-0def24add4df>, line 2)",
          "output_type": "error",
          "traceback": [
            "\u001b[0;36m  File \u001b[0;32m\"<ipython-input-1-0def24add4df>\"\u001b[0;36m, line \u001b[0;32m2\u001b[0m\n\u001b[0;31m    pip install twilio\u001b[0m\n\u001b[0m        ^\u001b[0m\n\u001b[0;31mSyntaxError\u001b[0m\u001b[0;31m:\u001b[0m invalid syntax\n"
          ]
        }
      ],
      "source": [
        "#phone otp verification\n",
        "# pip install twilio\n"
      ]
    },
    {
      "cell_type": "code",
      "execution_count": 2,
      "metadata": {
        "id": "ue2eDcVeXLss",
        "colab": {
          "base_uri": "https://localhost:8080/"
        },
        "outputId": "5ecf432d-7748-4a99-9a46-17f8ee5fe912"
      },
      "outputs": [
        {
          "output_type": "stream",
          "name": "stdout",
          "text": [
            "Curve: secp256k1\n",
            "Alice's private key: 0x44ffe127927f8db387f44a0cd4b17bb0906fea915eed59418736d151517bf0bc\n",
            "Alice's public key: (0x4ef561701de6758bac2f64e31400fff50b137e2aaa8fcc918b147a22f89e57a6, 0xe268b3ac88005727c426fbadca2a74e81ce8b91b993a376d7721addf28d1991d)\n",
            "Bob's private key: 0x9c7e111a6fd46ffe8bd25debc87959bcefcbb48c8a99fbbfd9337c4ea9bc9223\n",
            "Bob's public key: (0x9533a67aebed1728347466774b43e3b99d38d5b9a9a8e5c60a3318d3e966c448, 0x9d4f1bc30f6ec8729d267964d3408f10502fdf57ad1d30dbc84af18279ba9151)\n",
            "s1 (21363760181372350116238568351013318968058605536682279078945066587730763147373, 17863473478286876865802185732593986334543316108278531194249479416640075257967)\n",
            "s2 (21363760181372350116238568351013318968058605536682279078945066587730763147373, 17863473478286876865802185732593986334543316108278531194249479416640075257967)\n",
            "Shared secret: (0x2f3b75b2aa63050d1dba7bcbc53105b8505eaa428855056f389aa89b7a6d686d, 0x277e5e20fba80e75054a02e816f71de4d8d524c6a19b8a13987bb7b94b9cd86f)\n"
          ]
        }
      ],
      "source": [
        "\n",
        "import collections\n",
        "import random\n",
        "\n",
        "EllipticCurve = collections.namedtuple('EllipticCurve', 'name p a b g n h')\n",
        "\n",
        "curve = EllipticCurve(\n",
        "    'secp256k1',\n",
        "    # Field characteristic.\n",
        "    p=0xfffffffffffffffffffffffffffffffffffffffffffffffffffffffefffffc2f,\n",
        "    # Curve coefficients.\n",
        "    a=0,\n",
        "    b=7,\n",
        "    # Base point.\n",
        "    g=(0x79be667ef9dcbbac55a06295ce870b07029bfcdb2dce28d959f2815b16f81798,\n",
        "       0x483ada7726a3c4655da4fbfc0e1108a8fd17b448a68554199c47d08ffb10d4b8),\n",
        "    # Subgroup order.\n",
        "    n=0xfffffffffffffffffffffffffffffffebaaedce6af48a03bbfd25e8cd0364141,\n",
        "    # Subgroup cofactor.\n",
        "    h=1,\n",
        ")\n",
        "\n",
        "\n",
        "# Modular arithmetic ##########################################################\n",
        "\n",
        "def inverse_mod(k, p):\n",
        "    \"\"\"Returns the inverse of k modulo p.\n",
        "\n",
        "    This function returns the only integer x such that (x * k) % p == 1.\n",
        "\n",
        "    k must be non-zero and p must be a prime.\n",
        "    \"\"\"\n",
        "    if k == 0:\n",
        "        raise ZeroDivisionError('division by zero')\n",
        "\n",
        "    if k < 0:\n",
        "        # k ** -1 = p - (-k) ** -1  (mod p)\n",
        "        return p - inverse_mod(-k, p)\n",
        "\n",
        "    # Extended Euclidean algorithm.\n",
        "    s, old_s = 0, 1\n",
        "    t, old_t = 1, 0\n",
        "    r, old_r = p, k\n",
        "\n",
        "    while r != 0:\n",
        "        quotient = old_r // r\n",
        "        old_r, r = r, old_r - quotient * r\n",
        "        old_s, s = s, old_s - quotient * s\n",
        "        old_t, t = t, old_t - quotient * t\n",
        "\n",
        "    gcd, x, y = old_r, old_s, old_t\n",
        "\n",
        "    assert gcd == 1\n",
        "    assert (k * x) % p == 1\n",
        "\n",
        "    return x % p\n",
        "\n",
        "\n",
        "# Functions that work on curve points #########################################\n",
        "\n",
        "def is_on_curve(point):\n",
        "    \"\"\"Returns True if the given point lies on the elliptic curve.\"\"\"\n",
        "    if point is None:\n",
        "        # None represents the point at infinity.\n",
        "        return True\n",
        "\n",
        "    x, y = point\n",
        "\n",
        "    return (y * y - x * x * x - curve.a * x - curve.b) % curve.p == 0\n",
        "\n",
        "\n",
        "def point_neg(point):\n",
        "    \"\"\"Returns -point.\"\"\"\n",
        "    assert is_on_curve(point)\n",
        "\n",
        "    if point is None:\n",
        "        # -0 = 0\n",
        "        return None\n",
        "\n",
        "    x, y = point\n",
        "    result = (x, -y % curve.p)\n",
        "\n",
        "    assert is_on_curve(result)\n",
        "\n",
        "    return result\n",
        "\n",
        "\n",
        "def point_add(point1, point2):\n",
        "    \"\"\"Returns the result of point1 + point2 according to the group law.\"\"\"\n",
        "    assert is_on_curve(point1)\n",
        "    assert is_on_curve(point2)\n",
        "\n",
        "    if point1 is None:\n",
        "        # 0 + point2 = point2\n",
        "        return point2\n",
        "    if point2 is None:\n",
        "        # point1 + 0 = point1\n",
        "        return point1\n",
        "\n",
        "    x1, y1 = point1\n",
        "    x2, y2 = point2\n",
        "\n",
        "    if x1 == x2 and y1 != y2:\n",
        "        # point1 + (-point1) = 0\n",
        "        return None\n",
        "\n",
        "    if x1 == x2:\n",
        "        # This is the case point1 == point2.\n",
        "        m = (3 * x1 * x1 + curve.a) * inverse_mod(2 * y1, curve.p)\n",
        "    else:\n",
        "        # This is the case point1 != point2.\n",
        "        m = (y1 - y2) * inverse_mod(x1 - x2, curve.p)\n",
        "\n",
        "    x3 = m * m - x1 - x2\n",
        "    y3 = y1 + m * (x3 - x1)\n",
        "    result = (x3 % curve.p,\n",
        "              -y3 % curve.p)\n",
        "\n",
        "    assert is_on_curve(result)\n",
        "\n",
        "    return result\n",
        "\n",
        "\n",
        "def scalar_mult(k, point):\n",
        "    \"\"\"Returns k * point computed using the double and point_add algorithm.\"\"\"\n",
        "    assert is_on_curve(point)\n",
        "\n",
        "    if k % curve.n == 0 or point is None:\n",
        "        return None\n",
        "\n",
        "    if k < 0:\n",
        "        # k * point = -k * (-point)\n",
        "        return scalar_mult(-k, point_neg(point))\n",
        "\n",
        "    result = None\n",
        "    addend = point\n",
        "\n",
        "    while k:\n",
        "        if k & 1:\n",
        "            # Add.\n",
        "            result = point_add(result, addend)\n",
        "\n",
        "        # Double.\n",
        "        addend = point_add(addend, addend)\n",
        "\n",
        "        k >>= 1\n",
        "\n",
        "    assert is_on_curve(result)\n",
        "\n",
        "    return result\n",
        "\n",
        "\n",
        "# Keypair generation and ECDHE ################################################\n",
        "\n",
        "def make_keypair():\n",
        "    \"\"\"Generates a random private-public key pair.\"\"\"\n",
        "    private_key = random.randrange(1, curve.n)\n",
        "    public_key = scalar_mult(private_key, curve.g)\n",
        "\n",
        "    return private_key, public_key\n",
        "\n",
        "\n",
        "print('Curve:', curve.name)\n",
        "\n",
        "# Alice generates her own keypair.\n",
        "alice_private_key, alice_public_key = make_keypair()\n",
        "print(\"Alice's private key:\", hex(alice_private_key))\n",
        "print(\"Alice's public key: (0x{:x}, 0x{:x})\".format(*alice_public_key))\n",
        "\n",
        "# Bob generates his own key pair.\n",
        "bob_private_key, bob_public_key = make_keypair()\n",
        "print(\"Bob's private key:\", hex(bob_private_key))\n",
        "print(\"Bob's public key: (0x{:x}, 0x{:x})\".format(*bob_public_key))\n",
        "\n",
        "# Alice and Bob exchange their public keys and calculate the shared secret.\n",
        "s1 = scalar_mult(alice_private_key, bob_public_key)\n",
        "s2 = scalar_mult(bob_private_key, alice_public_key)\n",
        "assert s1 == s2\n",
        "print(\"s1\",s1)\n",
        "print(\"s2\",s2)\n",
        "print('Shared secret: (0x{:x}, 0x{:x})'.format(*s1))"
      ]
    },
    {
      "cell_type": "code",
      "source": [
        "from cryptography.hazmat.primitives import serialization\n",
        "from cryptography.hazmat.primitives.asymmetric import ec\n",
        "from cryptography.hazmat.backends import default_backend\n",
        "\n",
        "private_key_client = ec.generate_private_key(ec.SECP256R1(), default_backend())\n",
        "public_key_client = private_key_client.public_key()\n",
        "serialized_public_key_client = public_key_client.public_bytes(encoding=serialization.Encoding.PEM,format=serialization.PublicFormat.SubjectPublicKeyInfo)\n",
        "\n",
        "private_key_server = ec.generate_private_key(ec.SECP256R1(), default_backend())\n",
        "public_key_server = private_key_server.public_key()\n",
        "serialized_public_key_server = public_key_server.public_bytes(encoding=serialization.Encoding.PEM,format=serialization.PublicFormat.SubjectPublicKeyInfo)\n",
        "\n",
        "\n",
        "received_public_key_client = serialization.load_pem_public_key(serialized_public_key_client, backend=default_backend())\n",
        "received_public_key_server = serialization.load_pem_public_key(serialized_public_key_server, backend=default_backend())\n",
        "\n",
        "\n",
        "shared_key_client = private_key_client.exchange(ec.ECDH(), received_public_key_server)\n",
        "shared_key_server = private_key_server.exchange(ec.ECDH(), received_public_key_client)\n",
        "\n",
        "assert shared_key_client == shared_key_server\n",
        "print(shared_key_client)\n"
      ],
      "metadata": {
        "colab": {
          "base_uri": "https://localhost:8080/"
        },
        "id": "8xJA4w9p7UpG",
        "outputId": "0b41945b-8df1-4559-aab6-98463119c57b"
      },
      "execution_count": 4,
      "outputs": [
        {
          "output_type": "stream",
          "name": "stdout",
          "text": [
            "b'\\xe2[\\x87\\x90,5\\xff\\xf6\\xee\\xf6\\xad\\x08bD\\xb0\\xb53a\\xefs\\x99\\xd9\\x19\\xffM$\\xf5\\xf5Uh\\x04\\xa6'\n"
          ]
        }
      ]
    }
  ],
  "metadata": {
    "colab": {
      "provenance": [],
      "authorship_tag": "ABX9TyM9nPC0WM/5PAWj2i1ISgr5",
      "include_colab_link": true
    },
    "kernelspec": {
      "display_name": "Python 3",
      "name": "python3"
    },
    "language_info": {
      "name": "python"
    }
  },
  "nbformat": 4,
  "nbformat_minor": 0
}